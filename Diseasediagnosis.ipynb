{
  "nbformat": 4,
  "nbformat_minor": 0,
  "metadata": {
    "colab": {
      "provenance": []
    },
    "kernelspec": {
      "name": "python3",
      "display_name": "Python 3"
    },
    "language_info": {
      "name": "python"
    }
  },
  "cells": [
    {
      "cell_type": "code",
      "execution_count": null,
      "metadata": {
        "id": "DSGLQu9glswx"
      },
      "outputs": [],
      "source": [
        "import numpy as np\n",
        "import pandas as pd\n",
        "from scipy.stats import mode\n",
        "import matplotlib.pyplot as plt\n",
        "import seaborn as sns\n",
        "from sklearn.preprocessing import LabelEncoder\n",
        "from sklearn.model_selection import train_test_split, cross_val_score\n",
        "from sklearn.svm import SVC\n",
        "from sklearn.naive_bayes import GaussianNB\n",
        "from sklearn.ensemble import RandomForestClassifier\n",
        "from sklearn.metrics import accuracy_score, confusion_matrix,precision_score, recall_score, f1_score"
      ]
    },
    {
      "cell_type": "markdown",
      "source": [
        "This Code is inspired by geeks for geeks"
      ],
      "metadata": {
        "id": "NLAZupM1FMjy"
      }
    },
    {
      "cell_type": "markdown",
      "source": [
        "Loading train Data"
      ],
      "metadata": {
        "id": "wHK0JPf7OaGb"
      }
    },
    {
      "cell_type": "code",
      "source": [
        "traindata = \"Traindata.csv\"\n",
        "data = pd.read_csv(traindata).dropna(axis = 1)\n",
        "\n",
        "# Checking whether the dataset is balanced or not\n",
        "disease_counts = data[\"prognosis\"].value_counts()\n",
        "temp_df = pd.DataFrame({\n",
        "\t\"Disease\": disease_counts.index,\n",
        "\t\"Counts\": disease_counts.values\n",
        "})\n",
        "# Encoding the target value into numerical\n",
        "# value using LabelEncoder\n",
        "plt.figure(figsize = (18,8))\n",
        "sns.barplot(x = \"Disease\", y = \"Counts\", data = temp_df)\n",
        "plt.xticks(rotation=90)\n",
        "plt.show()"
      ],
      "metadata": {
        "id": "XlhFDvNYmnEo"
      },
      "execution_count": null,
      "outputs": []
    },
    {
      "cell_type": "markdown",
      "source": [
        "Converting into numerical format using Encoding"
      ],
      "metadata": {
        "id": "vhftWlB7OekQ"
      }
    },
    {
      "cell_type": "code",
      "source": [
        "encode = LabelEncoder()\n",
        "encoded_prognosis = encode.fit_transform(data[\"prognosis\"])\n",
        "data[\"prognosis\"] = encoded_prognosis\n",
        "data"
      ],
      "metadata": {
        "id": "qWJwPEg1yHkW"
      },
      "execution_count": null,
      "outputs": []
    },
    {
      "cell_type": "markdown",
      "source": [
        "Splitting the dataset"
      ],
      "metadata": {
        "id": "f5nEEwLhPM6_"
      }
    },
    {
      "cell_type": "code",
      "execution_count": null,
      "metadata": {
        "colab": {
          "base_uri": "https://localhost:8080/"
        },
        "id": "G00BEPrABCzT",
        "outputId": "b0cb2b93-a8b9-40a0-c697-82b95f4ecebc"
      },
      "outputs": [
        {
          "output_type": "stream",
          "name": "stdout",
          "text": [
            "Training data shape: (3936, 132) (3936,)\n",
            "Testing data shape: (984, 132) (984,)\n"
          ]
        }
      ],
      "source": [
        "# Splitting the dataset into input features (X) and target variable (y)\n",
        "X = data.iloc[:, :-1]\n",
        "y = data.iloc[:, -1]\n",
        "X_train, X_test, y_train, y_test = train_test_split(\n",
        "    X, y, test_size=0.2, random_state=24)\n",
        "\n",
        "# Displaying the shapes of the training and testing sets\n",
        "print(\"Training data shape:\", X_train.shape, y_train.shape)\n",
        "print(\"Testing data shape:\", X_test.shape, y_test.shape)"
      ]
    },
    {
      "cell_type": "markdown",
      "source": [
        "Cross Validation on models"
      ],
      "metadata": {
        "id": "KGvBITxPPPgd"
      }
    },
    {
      "cell_type": "code",
      "source": [
        "def custom_accuracy(estimator, X, y):\n",
        "    return accuracy_score(y, estimator.predict(X))\n",
        "\n",
        "# Initializing Models\n",
        "models = {\n",
        "    \"Support Vector Classifier (SVC)\": SVC(),\n",
        "    \"Gaussian Naive Bayes\": GaussianNB(),\n",
        "    \"Random Forest Classifier\": RandomForestClassifier(random_state=18)\n",
        "}\n",
        "\n",
        "# Evaluating Models using Cross Validation\n",
        "for model_name, model in models.items():\n",
        "    scores = cross_val_score(model, X, y, cv=10, n_jobs=-1, scoring=custom_accuracy)\n",
        "    print(\"=\" * 60)\n",
        "    print(f\"Model: {model_name}\")\n",
        "    print(f\"Scores: {scores}\")\n",
        "    print(f\"Mean Score: {np.mean(scores)}\")\n"
      ],
      "metadata": {
        "colab": {
          "base_uri": "https://localhost:8080/"
        },
        "id": "OHTe4Dzcqg7d",
        "outputId": "e30ee4c9-97bf-4bba-bc10-3e8470d32885"
      },
      "execution_count": null,
      "outputs": [
        {
          "output_type": "stream",
          "name": "stdout",
          "text": [
            "============================================================\n",
            "Model: Support Vector Classifier (SVC)\n",
            "Scores: [1. 1. 1. 1. 1. 1. 1. 1. 1. 1.]\n",
            "Mean Score: 1.0\n",
            "============================================================\n",
            "Model: Gaussian Naive Bayes\n",
            "Scores: [1. 1. 1. 1. 1. 1. 1. 1. 1. 1.]\n",
            "Mean Score: 1.0\n",
            "============================================================\n",
            "Model: Random Forest Classifier\n",
            "Scores: [1. 1. 1. 1. 1. 1. 1. 1. 1. 1.]\n",
            "Mean Score: 1.0\n"
          ]
        }
      ]
    },
    {
      "cell_type": "markdown",
      "source": [
        "Data Training"
      ],
      "metadata": {
        "id": "poIu6gnYPbfD"
      }
    },
    {
      "cell_type": "code",
      "source": [
        "SVM = SVC()\n",
        "SVM.fit(X_train, y_train)\n",
        "preds = SVM.predict(X_test)\n",
        "\n",
        "print(f\"Accuracy on train data by SVM Classifier: {accuracy_score(y_train, SVM.predict(X_train))*100}\")\n",
        "print(f\"Accuracy on test data by SVM Classifier: {accuracy_score(y_test, preds)*100}\")\n",
        "print(f\"Precision score on test data by SVM Classifier: {precision_score(y_test, preds, average='weighted')*100}\")\n",
        "print(f\"Recall score on test data by SVM Classifier: {recall_score(y_test, preds, average='weighted')*100}\")\n",
        "print(f\"F1-score on test data by SVM Classifier: {f1_score(y_test, preds, average='weighted')*100}\")\n",
        "GNB = GaussianNB()\n",
        "GNB.fit(X_train, y_train)\n",
        "preds = GNB.predict(X_test)\n",
        "\n",
        "print(f\"Accuracy on train data by Naive Bayes Classifier: {accuracy_score(y_train, GNB.predict(X_train))*100}\")\n",
        "print(f\"Accuracy on test data by Naive Bayes Classifier: {accuracy_score(y_test, preds)*100}\")\n",
        "print(f\"Precision score on test data by Naive Bayes Classifier: {precision_score(y_test, preds, average='weighted')*100}\")\n",
        "print(f\"Recall score on test data by Naive Bayes Classifier: {recall_score(y_test, preds, average='weighted')*100}\")\n",
        "print(f\"F1-score on test data by Naive Bayes Classifier: {f1_score(y_test, preds, average='weighted')*100}\")\n",
        "RFC = RandomForestClassifier(random_state=18)\n",
        "RFC.fit(X_train, y_train)\n",
        "preds = RFC.predict(X_test)\n",
        "\n",
        "print(f\"Accuracy on train data by Random Forest Classifier: {accuracy_score(y_train, RFC.predict(X_train))*100}\")\n",
        "print(f\"Accuracy on test data by Random Forest Classifier: {accuracy_score(y_test, preds)*100}\")\n",
        "print(f\"Precision score on test data by Random Forest Classifier: {precision_score(y_test, preds, average='weighted')*100}\")\n",
        "print(f\"Recall score on test data by Random Forest Classifier: {recall_score(y_test, preds, average='weighted')*100}\")\n",
        "print(f\"F1-score on test data by Random Forest Classifier: {f1_score(y_test, preds, average='weighted')*100}\")\n",
        "\n"
      ],
      "metadata": {
        "colab": {
          "base_uri": "https://localhost:8080/"
        },
        "id": "cr66wzurq_1t",
        "outputId": "bbeeda9a-fc75-4046-be9d-d68a50cff4e2"
      },
      "execution_count": null,
      "outputs": [
        {
          "output_type": "stream",
          "name": "stdout",
          "text": [
            "Accuracy on train data by SVM Classifier: 100.0\n",
            "Accuracy on test data by SVM Classifier: 100.0\n",
            "Precision score on test data by SVM Classifier: 100.0\n",
            "Recall score on test data by SVM Classifier: 100.0\n",
            "F1-score on test data by SVM Classifier: 100.0\n",
            "Accuracy on train data by Naive Bayes Classifier: 100.0\n",
            "Accuracy on test data by Naive Bayes Classifier: 100.0\n",
            "Precision score on test data by Naive Bayes Classifier: 100.0\n",
            "Recall score on test data by Naive Bayes Classifier: 100.0\n",
            "F1-score on test data by Naive Bayes Classifier: 100.0\n",
            "Accuracy on train data by Random Forest Classifier: 100.0\n",
            "Accuracy on test data by Random Forest Classifier: 100.0\n",
            "Precision score on test data by Random Forest Classifier: 100.0\n",
            "Recall score on test data by Random Forest Classifier: 100.0\n",
            "F1-score on test data by Random Forest Classifier: 100.0\n"
          ]
        }
      ]
    },
    {
      "cell_type": "markdown",
      "source": [
        "Prediction on test data"
      ],
      "metadata": {
        "id": "B1X3NQQdPgPH"
      }
    },
    {
      "cell_type": "code",
      "source": [
        "final_SVM = SVC()\n",
        "final_GNB = GaussianNB()\n",
        "final_RFC = RandomForestClassifier(random_state=18)\n",
        "\n",
        "final_SVM.fit(X, y)\n",
        "final_GNB.fit(X, y)\n",
        "final_RFC.fit(X, y)\n",
        "\n",
        "# Reading the test data\n",
        "testdata = pd.read_csv(\"Testdata.csv\").dropna(axis=1)\n",
        "\n",
        "test_X = testdata.iloc[:, :-1]\n",
        "test_Y = encode.transform(testdata.iloc[:, -1])\n",
        "\n",
        "# Making predictions by taking the mode of predictions\n",
        "# made by all the classifiers\n",
        "svm_prediction = final_SVM.predict(test_X)\n",
        "nb_prediction = final_GNB.predict(test_X)\n",
        "rf_prediction = final_RFC.predict(test_X)\n",
        "\n",
        "accuracy_rf = accuracy_score(test_Y, rf_prediction) * 100\n",
        "precision_rf = precision_score(test_Y, rf_prediction, average='weighted') * 100\n",
        "recall_rf = recall_score(test_Y, rf_prediction, average='weighted') * 100\n",
        "f1_rf = f1_score(test_Y, rf_prediction, average='weighted') * 100\n",
        "\n",
        "accuracy_nb = accuracy_score(test_Y, nb_prediction) * 100\n",
        "precision_nb = precision_score(test_Y, nb_prediction, average='weighted') * 100\n",
        "recall_nb = recall_score(test_Y, nb_prediction, average='weighted') * 100\n",
        "f1_nb = f1_score(test_Y, nb_prediction, average='weighted') * 100\n",
        "\n",
        "accuracy_svm = accuracy_score(test_Y, svm_prediction) * 100\n",
        "precision_svm = precision_score(test_Y, svm_prediction, average='weighted') * 100\n",
        "recall_svm = recall_score(test_Y, svm_prediction, average='weighted') * 100\n",
        "f1_svm = f1_score(test_Y, svm_prediction, average='weighted') * 100\n",
        "\n",
        "final_prediction = [mode([i, j, k])[0][0] for i, j, k in zip(svm_prediction, nb_prediction, rf_prediction)]\n",
        "accuracy_combined = accuracy_score(test_Y, final_prediction) * 100\n",
        "\n",
        "cf_matrix = confusion_matrix(test_Y, final_prediction)\n",
        "plt.figure(figsize=(12, 8))\n",
        "sns.heatmap(cf_matrix, annot=True)\n",
        "plt.title(\"Confusion Matrix for Combined Model on Test Dataset\")\n",
        "plt.show()\n",
        "\n",
        "print(f\"Accuracy on Test dataset by the rf_preds: {accuracy_rf}\")\n",
        "print(f\"Precision score on test data by Random Forest Classifier: {precision_rf}\")\n",
        "print(f\"Recall score on test data by Random Forest Classifier: {recall_rf}\")\n",
        "print(f\"F1-score on test data by Random Forest Classifier: {f1_rf}\")\n",
        "\n",
        "print(f\"Accuracy on Test dataset by the nb_preds: {accuracy_nb}\")\n",
        "print(f\"Precision score on test data by Naive Bayes Classifier: {precision_nb}\")\n",
        "print(f\"Recall score on test data by Naive Bayes Classifier: {recall_nb}\")\n",
        "print(f\"F1-score on test data by Naive Bayes Classifier: {f1_nb}\")\n",
        "\n",
        "print(f\"Accuracy on Test dataset by the svm_preds: {accuracy_svm}\")\n",
        "print(f\"Precision score on test data by SVM Classifier: {precision_svm}\")\n",
        "print(f\"Recall score on test data by SVM Classifier: {recall_svm}\")\n",
        "print(f\"F1-score on test data by SVM Classifier: {f1_svm}\")\n",
        "\n",
        "print(f\"Accuracy on Test dataset by the combined model: {accuracy_combined}\")\n"
      ],
      "metadata": {
        "colab": {
          "base_uri": "https://localhost:8080/",
          "height": 925
        },
        "id": "TBybsZPKuT86",
        "outputId": "e927b3f0-b6a8-4f66-9588-c0077f79fd20"
      },
      "execution_count": null,
      "outputs": [
        {
          "output_type": "display_data",
          "data": {
            "text/plain": [
              "<Figure size 1200x800 with 2 Axes>"
            ],
            "image/png": "[encoded data removed]"
          },
          "metadata": {}
        },
        {
          "output_type": "stream",
          "name": "stdout",
          "text": [
            "Accuracy on Test dataset by the rf_preds: 97.5609756097561\n",
            "Precision score on test data by Random Forest Classifier: 96.34146341463415\n",
            "Recall score on test data by Random Forest Classifier: 97.5609756097561\n",
            "F1-score on test data by Random Forest Classifier: 96.74796747967478\n",
            "Accuracy on Test dataset by the nb_preds: 97.5609756097561\n",
            "Precision score on test data by Naive Bayes Classifier: 96.34146341463415\n",
            "Recall score on test data by Naive Bayes Classifier: 97.5609756097561\n",
            "F1-score on test data by Naive Bayes Classifier: 96.74796747967478\n",
            "Accuracy on Test dataset by the svm_preds: 97.5609756097561\n",
            "Precision score on test data by SVM Classifier: 96.34146341463415\n",
            "Recall score on test data by SVM Classifier: 97.5609756097561\n",
            "F1-score on test data by SVM Classifier: 96.74796747967478\n",
            "Accuracy on Test dataset by the combined model: 97.5609756097561\n"
          ]
        }
      ]
    },
    {
      "cell_type": "code",
      "source": [
        "# Extracting symptom columns\n",
        "symptoms = X.columns.values\n",
        "# Creating a dictionary to map symptoms to their corresponding numerical indices\n",
        "symptom_index = {}\n",
        "for index, value in enumerate(symptoms):\n",
        "    formatted_symptom = \" \".join([j.capitalize() for j in value.split(\"_\")])\n",
        "    symptom_index[formatted_symptom] = index\n",
        "\n",
        "# Creating a dictionary to store symptom indices and model prediction classes\n",
        "data_dict = {\n",
        "    \"symptom_index\": symptom_index,\n",
        "    \"predictions_classes\": encode.classes_\n",
        "}\n",
        "\n",
        "# Defining a function for disease prediction\n",
        "def predict_disease(symptoms_input):\n",
        "    input_symptoms = symptoms_input.split(\",\")\n",
        "\n",
        "    # Creating input data for the models\n",
        "    input_data = [0] * len(data_dict[\"symptom_index\"])\n",
        "    for symptom in input_symptoms:\n",
        "        index = data_dict[\"symptom_index\"].get(symptom)\n",
        "        if index is not None:\n",
        "            input_data[index] = 1\n",
        "\n",
        "    input_data = np.array(input_data).reshape(1, -1)\n",
        "\n",
        "    # Generating individual predictions\n",
        "    final_RFC_prediction = data_dict[\"predictions_classes\"][final_RFC.predict(input_data)[0]]\n",
        "    final_GNB_prediction = data_dict[\"predictions_classes\"][final_GNB.predict(input_data)[0]]\n",
        "    final_SVM_prediction = data_dict[\"predictions_classes\"][final_SVM.predict(input_data)[0]]\n",
        "\n",
        "    # Making the final prediction by taking the mode of individual predictions\n",
        "    Final_Prediction = mode([final_RFC_prediction, final_GNB_prediction, final_SVM_prediction])[0][0]\n",
        "    predictions = {\n",
        "        \"rf_model_prediction\": final_RFC_prediction,\n",
        "        \"naive_bayes_prediction\": final_GNB_prediction,\n",
        "        \"svm_model_prediction\": final_SVM_prediction,\n",
        "        \"final_prediction\": Final_Prediction\n",
        "    }\n",
        "    return predictions\n",
        "\n",
        "# Testing the function with a sample set of symptoms\n",
        "sample_symptoms = \"High Fever,Chills,Headache,Muscle Pain,Yellowish Skin,Throat Irritation,Cough\"\n",
        "sample_predictions = predict_disease(sample_symptoms)\n",
        "print(sample_predictions)\n"
      ],
      "metadata": {
        "id": "BOCVj9PxwYHg"
      },
      "execution_count": null,
      "outputs": []
    },
    {
      "cell_type": "code",
      "source": [
        "import joblib\n",
        "joblib.dump(final_SVM, 'model.pkl')\n",
        "print(\"Model dumped!\")\n",
        "\n",
        "# Load the model that you just saved\n",
        "lr = joblib.load('model.pkl')\n",
        "\n",
        "# Saving the data columns from training\n",
        "# model_columns = list(x.columns)\n",
        "# joblib.dump(model_columns, 'model_columns.pkl')\n",
        "# print(\"Models columns dumped!\")"
      ],
      "metadata": {
        "id": "xwhxo9LixJcg"
      },
      "execution_count": null,
      "outputs": []
    },
    {
      "cell_type": "code",
      "source": [
        "pred2=predict_disease(\"Stomach Pain,Red Sore Around Nose,Spotting Urination\")\n",
        "print(pred2)"
      ],
      "metadata": {
        "id": "qnnneKS_xLh3"
      },
      "execution_count": null,
      "outputs": []
    },
    {
      "cell_type": "code",
      "source": [
        "!pip install flask-ngrok\n",
        "!pip install pyngrok==4.1.1\n",
        "!ngrok authtoken 2SJDmaEzO6kHR6zu65MenDUY9az_oVVxoNVc3FCr1mvrPPho"
      ],
      "metadata": {
        "id": "eIBUbz9bxVpn"
      },
      "execution_count": null,
      "outputs": []
    },
    {
      "cell_type": "code",
      "source": [
        "\n",
        "import json\n",
        "from flask import Flask, request, jsonify\n",
        "app = Flask(__name__)\n",
        "run_with_ngrok(app)\n",
        "\n",
        "@app.route(\"/\",methods=['POST'])\n",
        "def home():\n",
        " data = request.form.get('symtoms')\n",
        " pred2=predict_disease(data)\n",
        " return pred2\n",
        "\n",
        "app.run()"
      ],
      "metadata": {
        "id": "DH6U6eB2xbgG"
      },
      "execution_count": null,
      "outputs": []
    },
    {
      "cell_type": "code",
      "source": [
        "import re\n",
        "import requests\n",
        "from bs4 import BeautifulSoup\n",
        "from googlesearch import search\n",
        "import warnings\n",
        "\n",
        "warnings.filterwarnings(\"ignore\")\n",
        "\n",
        "def clean_text(text):\n",
        "    text = text.replace('.','')\n",
        "    text = text.replace(';',',')\n",
        "    text = text.replace('<b>','<b> \\n')\n",
        "    text = re.sub(r'<a.*?>', '', text)  # Remove hyperlink\n",
        "    text = re.sub(r'</a>', '', text)  # Remove hyperlink\n",
        "    text = re.sub(r'<[^<]+?>', ' ', text)  # All the tags\n",
        "    text = re.sub(r'\\[.*\\]', '', text)  # Remove citation text\n",
        "    text = text.replace(\"&gt\", \">\")\n",
        "    return text\n",
        "\n",
        "def get_disease_detail(term):\n",
        "    diseases = [term]\n",
        "    ret = term + \"\\n\"\n",
        "\n",
        "    for dis in diseases:\n",
        "        query = dis + ' wikipedia'\n",
        "\n",
        "        for sr in search(query, tld=\"co.in\", stop=10, pause=0.5):\n",
        "            match = re.search(r'wikipedia', sr)\n",
        "            filled = 0\n",
        "\n",
        "            if match:\n",
        "                wiki = requests.get(sr, verify=False)\n",
        "                soup = BeautifulSoup(wiki.content, 'html5lib')\n",
        "                info_table = soup.find(\"table\", {\"class\": \"infobox\"})\n",
        "\n",
        "                if info_table is not None:\n",
        "                    for row in info_table.find_all(\"tr\"):\n",
        "                        data = row.find(\"th\", {\"scope\": \"row\"})\n",
        "\n",
        "                        if data is not None:\n",
        "                            symptom = str(row.find(\"td\"))\n",
        "                            symptom = clean_text(symptom)\n",
        "                            ret += data.get_text() + \" - \" + symptom + \"\\n\"\n",
        "                            filled = 1\n",
        "\n",
        "                if filled:\n",
        "                    break\n",
        "\n",
        "    return ret\n"
      ],
      "metadata": {
        "id": "OrMMs2ohxjpe"
      },
      "execution_count": 1,
      "outputs": []
    },
    {
      "cell_type": "code",
      "source": [
        "print(get_disease_detail(\"fever\"))"
      ],
      "metadata": {
        "id": "7rK7rrf1xmKX",
        "colab": {
          "base_uri": "https://localhost:8080/"
        },
        "outputId": "4207a6df-e4c4-46ef-f5f8-27c54ade3b56"
      },
      "execution_count": 3,
      "outputs": [
        {
          "output_type": "stream",
          "name": "stdout",
          "text": [
            "fever\n",
            "Other names -  Pyrexia, febrile response, febrile   \n",
            "Specialty -  Infectious disease, pediatrics \n",
            "Symptoms -    \n",
            "Initially : shivering, feeling cold, chills     \n",
            "Later : flushed, sweating   \n",
            "Complications -  Febrile seizure   \n",
            "Causes -  Virus, bacteria, increase in the body's temperature set point   \n",
            "Diagnostic method -  Temperature >, between 372 and 448 °C (990 and 1126 °F)   \n",
            "Differential diagnosis -  Hyperthermia   \n",
            "Treatment -  Based on underlying cause, not required for fever itself   \n",
            "Medication -  Ibuprofen, paracetamol (acetaminophen)   \n",
            "Frequency -  Common   \n",
            "\n"
          ]
        }
      ]
    }
  ]
}